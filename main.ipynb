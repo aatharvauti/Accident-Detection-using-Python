{
 "cells": [
  {
   "cell_type": "markdown",
   "metadata": {},
   "source": [
    "# Accident Detection through CCTV Footage using Python\n",
    "---"
   ]
  },
  {
   "cell_type": "markdown",
   "metadata": {},
   "source": [
    "### Import Essential Libraries\n",
    "\n",
    "- Matplotlib: Matplotlib is a comprehensive library for creating static, animated, and interactive visualizations in Python.\n",
    "- Numpy: NumPy is a library for the Python programming language, adding support for large, multi-dimensional arrays and matrices, along with a large collection of high-level mathematical functions to operate on these arrays.\n",
    "- PIL: Python Imaging Library is a free and open-source additional library for the Python programming language that adds support for opening, manipulating, and saving many different image file formats.\n",
    "- Tensorflow: TensorFlow is a free and open-source software library for machine learning and artificial intelligence.\n",
    "- Keras: Keras is an open-source software library that provides a Python interface for artificial neural networks.\n"
   ]
  },
  {
   "cell_type": "code",
   "execution_count": 1,
   "metadata": {},
   "outputs": [],
   "source": [
    "import matplotlib.pyplot as plt\n",
    "import numpy as np\n",
    "import os\n",
    "os.environ['TF_CPP_MIN_LOG_LEVEL']='2'\n",
    "import PIL"
   ]
  },
  {
   "cell_type": "code",
   "execution_count": 2,
   "metadata": {},
   "outputs": [],
   "source": [
    "import tensorflow as tf\n",
    "\n",
    "from tensorflow import keras\n",
    "from tensorflow.keras import layers\n",
    "from tensorflow.keras.models import Sequential"
   ]
  },
  {
   "cell_type": "code",
   "execution_count": 3,
   "metadata": {},
   "outputs": [],
   "source": [
    "# Set Image Properties\n",
    "\n",
    "batch_size = 32\n",
    "img_height = 300\n",
    "img_width = 300"
   ]
  },
  {
   "cell_type": "code",
   "execution_count": 4,
   "metadata": {},
   "outputs": [
    {
     "name": "stdout",
     "output_type": "stream",
     "text": [
      "Found 669 files belonging to 2 classes.\n"
     ]
    }
   ],
   "source": [
    "# Load Training Dataset\n",
    "\n",
    "training_ds = tf.keras.preprocessing.image_dataset_from_directory(\n",
    "    '/home/auti/Datasets/accident-detection-ds/train',\n",
    "    seed = 42,\n",
    "    image_size = (img_height, img_width),\n",
    "    batch_size = batch_size\n",
    ")"
   ]
  },
  {
   "cell_type": "code",
   "execution_count": 5,
   "metadata": {},
   "outputs": [
    {
     "name": "stdout",
     "output_type": "stream",
     "text": [
      "Found 103 files belonging to 2 classes.\n"
     ]
    }
   ],
   "source": [
    "# Load Validation Dataset\n",
    "\n",
    "validation_ds =  tf.keras.preprocessing.image_dataset_from_directory(\n",
    "    '/home/auti/Datasets/accident-detection-ds/val',\n",
    "    seed = 42,\n",
    "    image_size = (img_height, img_width),\n",
    "    batch_size = batch_size\n",
    ")"
   ]
  },
  {
   "cell_type": "code",
   "execution_count": 6,
   "metadata": {},
   "outputs": [
    {
     "name": "stdout",
     "output_type": "stream",
     "text": [
      "Found 152 files belonging to 2 classes.\n"
     ]
    }
   ],
   "source": [
    "# Load Testing Dataset\n",
    "\n",
    "testing_ds = tf.keras.preprocessing.image_dataset_from_directory(\n",
    "    '/home/auti/Datasets/accident-detection-ds/test',\n",
    "    seed = 42,\n",
    "    image_size = (img_height, img_width),\n",
    "    batch_size = batch_size\n",
    ")"
   ]
  },
  {
   "cell_type": "code",
   "execution_count": 7,
   "metadata": {},
   "outputs": [],
   "source": [
    "# Classify\n",
    "\n",
    "class_names = training_ds.class_names"
   ]
  },
  {
   "cell_type": "code",
   "execution_count": 8,
   "metadata": {},
   "outputs": [],
   "source": [
    "# AUTOTUNE\n",
    "\n",
    "AUTOTUNE = tf.data.experimental.AUTOTUNE\n",
    "training_ds = training_ds.cache().prefetch(buffer_size=AUTOTUNE)\n",
    "testing_ds = testing_ds.cache().prefetch(buffer_size=AUTOTUNE)"
   ]
  },
  {
   "cell_type": "code",
   "execution_count": 9,
   "metadata": {},
   "outputs": [],
   "source": [
    "# Defining the model\n",
    "# Normalization and Image Processing\n",
    "\n",
    "model = tf.keras.models.Sequential([\n",
    "  layers.BatchNormalization(),\n",
    "  layers.Conv2D(32, 3, activation='relu'),\n",
    "  layers.MaxPooling2D(),\n",
    "  layers.Conv2D(64, 3, activation='relu'),\n",
    "  layers.MaxPooling2D(),\n",
    "  layers.Conv2D(128, 3, activation='relu'),\n",
    "  layers.MaxPooling2D(),\n",
    "  layers.Flatten(),\n",
    "  layers.Dense(256, activation='relu'),\n",
    "  layers.Dense(len(class_names), activation= 'softmax')\n",
    "])\n",
    "\n",
    "model.compile(optimizer='adam',loss='sparse_categorical_crossentropy', metrics=['accuracy'])"
   ]
  },
  {
   "cell_type": "code",
   "execution_count": 10,
   "metadata": {},
   "outputs": [
    {
     "name": "stdout",
     "output_type": "stream",
     "text": [
      "Epoch 1/10\n",
      "21/21 [==============================] - 173s 8s/step - loss: 2.4127 - accuracy: 0.5874 - val_loss: 0.6026 - val_accuracy: 0.6796\n",
      "Epoch 2/10\n",
      "21/21 [==============================] - 161s 8s/step - loss: 0.4729 - accuracy: 0.7833 - val_loss: 1.2557 - val_accuracy: 0.6019\n",
      "Epoch 3/10\n",
      "21/21 [==============================] - 131s 6s/step - loss: 0.3358 - accuracy: 0.8729 - val_loss: 0.9829 - val_accuracy: 0.6602\n",
      "Epoch 4/10\n",
      "21/21 [==============================] - 122s 6s/step - loss: 0.1909 - accuracy: 0.9268 - val_loss: 0.6730 - val_accuracy: 0.7767\n",
      "Epoch 5/10\n",
      "21/21 [==============================] - 121s 6s/step - loss: 0.1635 - accuracy: 0.9357 - val_loss: 0.2236 - val_accuracy: 0.8932\n",
      "Epoch 6/10\n",
      "21/21 [==============================] - 121s 6s/step - loss: 0.1102 - accuracy: 0.9656 - val_loss: 0.3086 - val_accuracy: 0.8835\n",
      "Epoch 7/10\n",
      "21/21 [==============================] - 120s 6s/step - loss: 0.0661 - accuracy: 0.9776 - val_loss: 0.1513 - val_accuracy: 0.9223\n",
      "Epoch 8/10\n",
      "21/21 [==============================] - 121s 6s/step - loss: 0.0404 - accuracy: 0.9821 - val_loss: 0.0756 - val_accuracy: 0.9612\n",
      "Epoch 9/10\n",
      "21/21 [==============================] - 120s 6s/step - loss: 0.0275 - accuracy: 0.9880 - val_loss: 0.0264 - val_accuracy: 1.0000\n",
      "Epoch 10/10\n",
      "21/21 [==============================] - 121s 6s/step - loss: 0.0135 - accuracy: 0.9985 - val_loss: 0.0189 - val_accuracy: 1.0000\n"
     ]
    }
   ],
   "source": [
    "# Start Training the model\n",
    "\n",
    "training_model = model.fit(training_ds, validation_data= validation_ds, epochs = 10)"
   ]
  },
  {
   "cell_type": "code",
   "execution_count": 14,
   "metadata": {},
   "outputs": [
    {
     "data": {
      "text/plain": [
       "<matplotlib.legend.Legend at 0x7fdb21e19c90>"
      ]
     },
     "execution_count": 14,
     "metadata": {},
     "output_type": "execute_result"
    },
    {
     "data": {
      "image/png": "[encoded data removed]",
      "text/plain": [
       "<Figure size 432x288 with 1 Axes>"
      ]
     },
     "metadata": {
      "needs_background": "light"
     },
     "output_type": "display_data"
    }
   ],
   "source": [
    "# Accuracy Graph Comparision\n",
    "\n",
    "plt.plot(training_model.history['accuracy'], label = 'training accuracy')\n",
    "plt.plot(training_model.history['val_accuracy'], label = 'validation accuracy')\n",
    "plt.grid(True)\n",
    "plt.legend()"
   ]
  },
  {
   "cell_type": "code",
   "execution_count": 15,
   "metadata": {},
   "outputs": [
    {
     "data": {
      "text/plain": [
       "<matplotlib.legend.Legend at 0x7fdb21ec92a0>"
      ]
     },
     "execution_count": 15,
     "metadata": {},
     "output_type": "execute_result"
    },
    {
     "data": {
      "image/png": "[encoded data removed]",
      "text/plain": [
       "<Figure size 432x288 with 1 Axes>"
      ]
     },
     "metadata": {
      "needs_background": "light"
     },
     "output_type": "display_data"
    }
   ],
   "source": [
    "# Loss Graph\n",
    "\n",
    "plt.plot(training_model.history['loss'], label = 'training loss')\n",
    "plt.plot(training_model.history['val_loss'], label = 'validation loss')\n",
    "\n",
    "plt.grid(True)\n",
    "plt.legend()"
   ]
  },
  {
   "cell_type": "code",
   "execution_count": 31,
   "metadata": {},
   "outputs": [
    {
     "name": "stdout",
     "output_type": "stream",
     "text": [
      "0\n",
      "This image most likely belongs to Accident with a 73.11 percent confidence.\n"
     ]
    }
   ],
   "source": [
    "img = tf.keras.utils.load_img(\n",
    "    'images/accident/1.jpg', target_size=(img_height, img_width)\n",
    ")\n",
    "img_array = tf.keras.utils.img_to_array(img)\n",
    "img_array = tf.expand_dims(img_array, 0) # Create a batch\n",
    "\n",
    "predictions = model.predict(img_array)\n",
    "score = tf.nn.softmax(predictions[0])\n",
    "print(np.argmax(score))\n",
    "print(\n",
    "    \"This image most likely belongs to {} with a {:.2f} percent confidence.\"\n",
    "    .format(class_names[np.argmax(score)], 100 * np.max(score))\n",
    ")"
   ]
  },
  {
   "cell_type": "code",
   "execution_count": 32,
   "metadata": {},
   "outputs": [],
   "source": [
    "# Send alert if Accident is detected\n",
    "\n",
    "import alert\n",
    "\n",
    "if np.argmax(score) == 0:\n",
    "    alert.send_alert()"
   ]
  },
  {
   "cell_type": "code",
   "execution_count": null,
   "metadata": {},
   "outputs": [],
   "source": []
  }
 ],
 "metadata": {
  "kernelspec": {
   "display_name": "Python 3",
   "language": "python",
   "name": "python3"
  },
  "language_info": {
   "codemirror_mode": {
    "name": "ipython",
    "version": 3
   },
   "file_extension": ".py",
   "mimetype": "text/x-python",
   "name": "python",
   "nbconvert_exporter": "python",
   "pygments_lexer": "ipython3",
   "version": "3.10.4"
  },
  "orig_nbformat": 4
 },
 "nbformat": 4,
 "nbformat_minor": 2
}
